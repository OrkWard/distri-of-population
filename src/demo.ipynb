{
 "cells": [
  {
   "cell_type": "code",
   "execution_count": 8,
   "metadata": {},
   "outputs": [
    {
     "data": {
      "text/plain": [
       "PosixPath('/home/orkward/Repos/distri-of-population')"
      ]
     },
     "execution_count": 8,
     "metadata": {},
     "output_type": "execute_result"
    }
   ],
   "source": [
    "import geopandas as gpd\n",
    "from pathlib import Path\n",
    "\n",
    "ROOT_DIR = Path().absolute().parent\n",
    "ROOT_DIR"
   ]
  },
  {
   "cell_type": "code",
   "execution_count": 7,
   "metadata": {},
   "outputs": [
    {
     "name": "stdout",
     "output_type": "stream",
     "text": [
      "           AREA   PERIMETER  PROVINCE    NAME         ENAME  GB1999  TOWNS  \\\n",
      "0  1.810167e+10   665425.69        23     南充市      mohexian  440825   17.0   \n",
      "1  1.416603e+10   583142.81        23     塔河县      tahexian  232722    3.0   \n",
      "2  3.041504e+10  1277285.30        15  额尔古纳右旗  geergunyouqi  152105    0.0   \n",
      "3  3.159027e+10  1209216.40        23     呼玛县      humaxian  232721   10.0   \n",
      "4  1.980711e+10   839650.75        15  额尔古纳左旗  geergunzuoqi  152106    4.0   \n",
      "\n",
      "   COMMUNITY  FAMILIES   FAM_COU  ...  popu10000  INDUPRODUC  popu_per_1  \\\n",
      "0      173.0  155975.0  109971.0  ...     660000       63600  337.769012   \n",
      "1       17.0   30827.0    2363.0  ...     100000       47800    7.112881   \n",
      "2        0.0   53052.0       0.0  ...     170000       14076    8.494903   \n",
      "3       68.0   14819.0    6508.0  ...      50000       15000    3.505820   \n",
      "4        4.0   24435.0     465.0  ...      80000        7330    2.857143   \n",
      "\n",
      "   LIGHTPRODU  popucou_pe  stu_per__1  popwork_pe  tel_per_fa   POST_  \\\n",
      "0          71   80.303001     21.0835    5.981100     31.4345  165300   \n",
      "1        6077   10.000000     13.5760   22.541000     62.3512  165200   \n",
      "2        5674    0.000000     13.8006    4.477600     45.1086  222500   \n",
      "3         462   40.000000     14.6080   14.166000     63.4321  165100   \n",
      "4        4270    0.000000     15.5025   23.653799     60.5975  223500   \n",
      "\n",
      "                                            geometry  \n",
      "0  POLYGON ((1053852.278 6333231.292, 1057709.701...  \n",
      "1  POLYGON ((1226011.307 6375310.175, 1228541.954...  \n",
      "2  POLYGON ((1053852.278 6333231.292, 1055119.890...  \n",
      "3  POLYGON ((1191527.859 6256622.078, 1195797.636...  \n",
      "4  POLYGON ((1091537.215 6237224.800, 1092104.588...  \n",
      "\n",
      "[5 rows x 52 columns]\n",
      "Index(['AREA', 'PERIMETER', 'PROVINCE', 'NAME', 'ENAME', 'GB1999', 'TOWNS',\n",
      "       'COMMUNITY', 'FAMILIES', 'FAM_COU', 'POPU', 'POP_COU', 'POP_WORK',\n",
      "       'POP_CLAB', 'POP_AGRI', 'POWER_AGRI', 'FAM_TEL', 'PRODUCT', 'PRODUCT_1',\n",
      "       'PRODUCT_2', 'FINAINCOME', 'FINAOUT', 'DEPOSITS', 'BANK', 'CORPPRODUC',\n",
      "       'COTTONPROD', 'OILPRODUCT', 'METAPRODUC', 'FIRMS', 'FIRMS_PROD',\n",
      "       'FACILITIY', 'JUNIOR', 'ELEMENTERY', 'popu_per_l', 'BED', 'FINAINCO_1',\n",
      "       'SOCIAL', 'POPU_94', 'SOCIAL_BED', 'FINAOUT_94', 'PAGE', 'STU_PER_PO',\n",
      "       'popu10000', 'INDUPRODUC', 'popu_per_1', 'LIGHTPRODU', 'popucou_pe',\n",
      "       'stu_per__1', 'popwork_pe', 'tel_per_fa', 'POST_', 'geometry'],\n",
      "      dtype='object')\n"
     ]
    }
   ],
   "source": [
    "data = gpd.read_file(ROOT_DIR / 'data' / 'china-county-boundary.shp')\n",
    "\n",
    "# Access features and attributes\n",
    "print(data.head())  # Show the first few features\n",
    "print(data.columns)  # List the available columns (attributes)\n",
    "\n",
    "# Perform further analysis or manipulation on the data\n"
   ]
  }
 ],
 "metadata": {
  "kernelspec": {
   "display_name": ".venv",
   "language": "python",
   "name": "python3"
  },
  "language_info": {
   "codemirror_mode": {
    "name": "ipython",
    "version": 3
   },
   "file_extension": ".py",
   "mimetype": "text/x-python",
   "name": "python",
   "nbconvert_exporter": "python",
   "pygments_lexer": "ipython3",
   "version": "3.11.7"
  }
 },
 "nbformat": 4,
 "nbformat_minor": 2
}
